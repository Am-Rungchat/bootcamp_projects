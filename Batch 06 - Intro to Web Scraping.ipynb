{
 "cells":[
  {
   "cell_type":"markdown",
   "source":[
    "# IMDB"
   ],
   "attachments":{
    
   },
   "metadata":{
    "datalore":{
     "node_id":"IMDB",
     "type":"MD",
     "hide_input_from_viewers":false,
     "hide_output_from_viewers":false,
     "sheet_delimiter":true
    }
   }
  },
  {
   "cell_type":"markdown",
   "source":[
    "## Mini Project 01 - IMDB web scraping"
   ],
   "attachments":{
    
   },
   "metadata":{
    "datalore":{
     "node_id":"TYeJuHegod0JqicjJobHMt",
     "type":"MD",
     "hide_input_from_viewers":false,
     "hide_output_from_viewers":false,
     "report_properties":{
      "rowId":"UanRS3nSWYzCguoZIwHWsc"
     }
    }
   }
  },
  {
   "cell_type":"code",
   "source":[
    "library(tidyverse)\n",
    "library(rvest) # scrape data from internet"
   ],
   "execution_count":1,
   "outputs":[
    {
     "name":"stderr",
     "text":[
      "Warning message in system(\"timedatectl\", intern = TRUE):\n",
      "“running command 'timedatectl' had status 1”\n",
      "Warning message:\n",
      "“Failed to locate timezone database”\n",
      "── \u001b[1mAttaching packages\u001b[22m ─────────────────────────────────────── tidyverse 1.3.1 ──\n",
      "\n",
      "\u001b[32m✔\u001b[39m \u001b[34mggplot2\u001b[39m 3.3.5     \u001b[32m✔\u001b[39m \u001b[34mpurrr  \u001b[39m 0.3.4\n",
      "\u001b[32m✔\u001b[39m \u001b[34mtibble \u001b[39m 3.1.5     \u001b[32m✔\u001b[39m \u001b[34mdplyr  \u001b[39m 1.0.7\n",
      "\u001b[32m✔\u001b[39m \u001b[34mtidyr  \u001b[39m 1.1.4     \u001b[32m✔\u001b[39m \u001b[34mstringr\u001b[39m 1.4.0\n",
      "\u001b[32m✔\u001b[39m \u001b[34mreadr  \u001b[39m 2.0.2     \u001b[32m✔\u001b[39m \u001b[34mforcats\u001b[39m 0.5.1\n",
      "\n",
      "── \u001b[1mConflicts\u001b[22m ────────────────────────────────────────── tidyverse_conflicts() ──\n",
      "\u001b[31m✖\u001b[39m \u001b[34mdplyr\u001b[39m::\u001b[32mfilter()\u001b[39m  masks \u001b[34mstats\u001b[39m::filter()\n",
      "\u001b[31m✖\u001b[39m \u001b[34mpurrr\u001b[39m::\u001b[32mflatten()\u001b[39m masks \u001b[34mjsonlite\u001b[39m::flatten()\n",
      "\u001b[31m✖\u001b[39m \u001b[34mdplyr\u001b[39m::\u001b[32mlag()\u001b[39m     masks \u001b[34mstats\u001b[39m::lag()\n",
      "\n",
      "\n",
      "Attaching package: ‘rvest’\n",
      "\n",
      "\n",
      "The following object is masked from ‘package:readr’:\n",
      "\n",
      "    guess_encoding\n",
      "\n",
      "\n"
     ],
     "output_type":"stream"
    }
   ],
   "metadata":{
    "datalore":{
     "node_id":"0HcaDY1eahK1xUI4Lxcrdx",
     "type":"CODE",
     "hide_input_from_viewers":false,
     "hide_output_from_viewers":false,
     "report_properties":{
      "rowId":"nxt1Vl3QmPKeLMbeI9wzbP"
     }
    }
   }
  },
  {
   "cell_type":"code",
   "source":[
    "url <- \"https:\/\/www.imdb.com\/search\/title\/?groups=top_100&sort=user_rating,desc\""
   ],
   "execution_count":2,
   "outputs":[
    
   ],
   "metadata":{
    "datalore":{
     "node_id":"LBesBQCIzflcOtwNbxWmTb",
     "type":"CODE",
     "hide_input_from_viewers":false,
     "hide_output_from_viewers":false,
     "report_properties":{
      "rowId":"BWvCfkmiBUkF67teCf8yHT"
     }
    }
   }
  },
  {
   "cell_type":"code",
   "source":[
    "print(url)"
   ],
   "execution_count":3,
   "outputs":[
    {
     "name":"stdout",
     "text":[
      "[1] \"https:\/\/www.imdb.com\/search\/title\/?groups=top_100&sort=user_rating,desc\"\n"
     ],
     "output_type":"stream"
    }
   ],
   "metadata":{
    "datalore":{
     "node_id":"A4I5YS4xtcshJytWTxrIK2",
     "type":"CODE",
     "hide_input_from_viewers":false,
     "hide_output_from_viewers":false,
     "report_properties":{
      "rowId":"KywE9WqvkSCmcqI0EJDBrG"
     }
    }
   }
  },
  {
   "cell_type":"code",
   "source":[
    "# read html\n",
    "imdb <- read_html(url)"
   ],
   "execution_count":6,
   "outputs":[
    
   ],
   "metadata":{
    "datalore":{
     "node_id":"HXFtbx09n4it8JDolUWfE8",
     "type":"CODE",
     "hide_input_from_viewers":false,
     "hide_output_from_viewers":false,
     "report_properties":{
      "rowId":"L0ajtOnAqtS6rqoekpc3Gu"
     }
    }
   }
  },
  {
   "cell_type":"code",
   "source":[
    "imdb"
   ],
   "execution_count":7,
   "outputs":[
    {
     "data":{
      "text\/plain":[
       "{html_document}\n",
       "<html xmlns:og=\"http:\/\/ogp.me\/ns#\" xmlns:fb=\"http:\/\/www.facebook.com\/2008\/fbml\">\n",
       "[1] <head>\\n<meta http-equiv=\"Content-Type\" content=\"text\/html; charset=UTF-8 ...\n",
       "[2] <body id=\"styleguide-v2\" class=\"fixed\">\\n            <img height=\"1\" widt ..."
      ]
     },
     "metadata":{
      
     },
     "output_type":"display_data"
    }
   ],
   "metadata":{
    "datalore":{
     "node_id":"VgBIOmykivavG09LYyy1PY",
     "type":"CODE",
     "hide_input_from_viewers":false,
     "hide_output_from_viewers":false,
     "report_properties":{
      "rowId":"iDzFHg7TQdKLbixs4gZp2y"
     }
    }
   }
  },
  {
   "cell_type":"code",
   "source":[
    "# movie title\n",
    "titles <- imdb %>%\n",
    "    html_nodes(\"h3.lister-item-header\") %>%\n",
    "    html_text2()"
   ],
   "execution_count":31,
   "outputs":[
    
   ],
   "metadata":{
    "datalore":{
     "node_id":"di3yBquIdleqa1T4QYqwKN",
     "type":"CODE",
     "hide_input_from_viewers":false,
     "hide_output_from_viewers":false,
     "report_properties":{
      "rowId":"pTfpm4xJRa4O2vtffjPMUo"
     }
    }
   }
  },
  {
   "cell_type":"code",
   "source":[
    "title[1:10]"
   ],
   "execution_count":14,
   "outputs":[
    {
     "data":{
      "text\/html":[
       "<style>\n",
       ".list-inline {list-style: none; margin:0; padding: 0}\n",
       ".list-inline>li {display: inline-block}\n",
       ".list-inline>li:not(:last-child)::after {content: \"\\00b7\"; padding: 0 .5ex}\n",
       "<\/style>\n",
       "<ol class=list-inline><li>'1. The Shawshank Redemption (1994)'<\/li><li>'2. The Godfather (1972)'<\/li><li>'3. The Dark Knight (2008)'<\/li><li>'4. Schindler\\'s List (1993)'<\/li><li>'5. The Lord of the Rings: The Return of the King (2003)'<\/li><li>'6. The Godfather Part II (1974)'<\/li><li>'7. 12 Angry Men (1957)'<\/li><li>'8. Pulp Fiction (1994)'<\/li><li>'9. The Lord of the Rings: The Fellowship of the Ring (2001)'<\/li><li>'10. Inception (2010)'<\/li><\/ol>\n"
      ]
     },
     "metadata":{
      
     },
     "output_type":"display_data"
    }
   ],
   "metadata":{
    "datalore":{
     "node_id":"qBmY0w0QSEXdw3mMiP0Czd",
     "type":"CODE",
     "hide_input_from_viewers":false,
     "hide_output_from_viewers":false,
     "report_properties":{
      "rowId":"cj8sfEjuAieH2kmeZqSQnJ"
     }
    }
   }
  },
  {
   "cell_type":"code",
   "source":[
    "# rating \n",
    "ratings <- imdb %>%\n",
    "    html_nodes(\"div.ratings-imdb-rating\") %>%\n",
    "    html_text2() %>% \n",
    "    as.numeric()"
   ],
   "execution_count":32,
   "outputs":[
    
   ],
   "metadata":{
    "datalore":{
     "node_id":"oaTeCGj987i7Gi8pkZY3mH",
     "type":"CODE",
     "hide_input_from_viewers":false,
     "hide_output_from_viewers":false,
     "report_properties":{
      "rowId":"X15oK1HgwuedJ1x5GPgz6H"
     }
    }
   }
  },
  {
   "cell_type":"code",
   "source":[
    "rating[1:10]"
   ],
   "execution_count":23,
   "outputs":[
    {
     "data":{
      "text\/html":[
       "<style>\n",
       ".list-inline {list-style: none; margin:0; padding: 0}\n",
       ".list-inline>li {display: inline-block}\n",
       ".list-inline>li:not(:last-child)::after {content: \"\\00b7\"; padding: 0 .5ex}\n",
       "<\/style>\n",
       "<ol class=list-inline><li>9.3<\/li><li>9.2<\/li><li>9<\/li><li>9<\/li><li>9<\/li><li>9<\/li><li>9<\/li><li>8.9<\/li><li>8.8<\/li><li>8.8<\/li><\/ol>\n"
      ]
     },
     "metadata":{
      
     },
     "output_type":"display_data"
    }
   ],
   "metadata":{
    "datalore":{
     "node_id":"OO3YFtJsN09e97JU6JvNI9",
     "type":"CODE",
     "hide_input_from_viewers":false,
     "hide_output_from_viewers":false,
     "report_properties":{
      "rowId":"ETFa70gxGMY5s097lSDtpU"
     }
    }
   }
  },
  {
   "cell_type":"code",
   "source":[
    "num_votes <- imdb %>%\n",
    "    html_nodes(\"p.sort-num_votes-visible\") %>%\n",
    "    html_text2()"
   ],
   "execution_count":27,
   "outputs":[
    
   ],
   "metadata":{
    "datalore":{
     "node_id":"3jzaAwx9Y9AvstmovLYvdQ",
     "type":"CODE",
     "hide_input_from_viewers":false,
     "hide_output_from_viewers":false,
     "report_properties":{
      "rowId":"k5XeqSjyJuCD5UwDtoBEtd"
     }
    }
   }
  },
  {
   "cell_type":"code",
   "source":[
    "# build a dataset\n",
    "df <- data.frame(\n",
    "    title = titles, ## column name = dataset.\n",
    "    rating = ratings,\n",
    "    num_vote = num_votes\n",
    ")\n",
    "\n",
    "head(df)"
   ],
   "execution_count":33,
   "outputs":[
    {
     "data":{
      "text\/html":[
       "<table class=\"dataframe\">\n",
       "<caption>A data.frame: 6 × 3<\/caption>\n",
       "<thead>\n",
       "\t<tr><th><\/th><th scope=col>title<\/th><th scope=col>rating<\/th><th scope=col>num_vote<\/th><\/tr>\n",
       "\t<tr><th><\/th><th scope=col>&lt;chr&gt;<\/th><th scope=col>&lt;dbl&gt;<\/th><th scope=col>&lt;chr&gt;<\/th><\/tr>\n",
       "<\/thead>\n",
       "<tbody>\n",
       "\t<tr><th scope=row>1<\/th><td>1. The Shawshank Redemption (1994)                     <\/td><td>9.3<\/td><td>Votes: 2,700,692 | Gross: $28.34M | Top 250: #1 <\/td><\/tr>\n",
       "\t<tr><th scope=row>2<\/th><td>2. The Godfather (1972)                                <\/td><td>9.2<\/td><td>Votes: 1,874,743 | Gross: $134.97M | Top 250: #2<\/td><\/tr>\n",
       "\t<tr><th scope=row>3<\/th><td>3. The Dark Knight (2008)                              <\/td><td>9.0<\/td><td>Votes: 2,674,503 | Gross: $534.86M | Top 250: #3<\/td><\/tr>\n",
       "\t<tr><th scope=row>4<\/th><td>4. Schindler's List (1993)                             <\/td><td>9.0<\/td><td>Votes: 1,365,249 | Gross: $96.90M | Top 250: #6 <\/td><\/tr>\n",
       "\t<tr><th scope=row>5<\/th><td>5. The Lord of the Rings: The Return of the King (2003)<\/td><td>9.0<\/td><td>Votes: 1,859,730 | Gross: $377.85M | Top 250: #7<\/td><\/tr>\n",
       "\t<tr><th scope=row>6<\/th><td>6. The Godfather Part II (1974)                        <\/td><td>9.0<\/td><td>Votes: 1,280,966 | Gross: $57.30M | Top 250: #4 <\/td><\/tr>\n",
       "<\/tbody>\n",
       "<\/table>\n"
      ]
     },
     "metadata":{
      
     },
     "output_type":"display_data"
    }
   ],
   "metadata":{
    "datalore":{
     "node_id":"OmYze09YCYlqWUCanGmkh1",
     "type":"CODE",
     "hide_input_from_viewers":false,
     "hide_output_from_viewers":false,
     "report_properties":{
      "rowId":"TKH93OABY8pS6SNtE0W2B3"
     }
    }
   }
  },
  {
   "cell_type":"code",
   "source":[
    
   ],
   "execution_count":null,
   "outputs":[
    
   ],
   "metadata":{
    "datalore":{
     "node_id":"OCY3LvQATnF5HacnVFzTy3",
     "type":"CODE",
     "hide_input_from_viewers":true,
     "hide_output_from_viewers":true
    }
   }
  },
  {
   "cell_type":"markdown",
   "source":[
    "# SpecPhone"
   ],
   "attachments":{
    
   },
   "metadata":{
    "datalore":{
     "node_id":"SpecPhone",
     "type":"MD",
     "hide_input_from_viewers":false,
     "hide_output_from_viewers":false,
     "sheet_delimiter":true
    }
   }
  },
  {
   "cell_type":"markdown",
   "source":[
    "# **Mini Project 02 - Specphone Phone Database**"
   ],
   "attachments":{
    
   },
   "metadata":{
    "datalore":{
     "node_id":"zNTRYdBWREmf7RYFYTE1AX",
     "type":"MD",
     "hide_input_from_viewers":false,
     "hide_output_from_viewers":false,
     "report_properties":{
      "rowId":"sW8wBZqOYqvDT5gX6GtnaE"
     }
    }
   }
  },
  {
   "cell_type":"code",
   "source":[
    "library(tidyverse)\n",
    "library(rvest) # scrape data from internet"
   ],
   "execution_count":1,
   "outputs":[
    {
     "name":"stderr",
     "text":[
      "Warning message in system(\"timedatectl\", intern = TRUE):\n",
      "“running command 'timedatectl' had status 1”\n",
      "Warning message:\n",
      "“Failed to locate timezone database”\n",
      "── \u001b[1mAttaching packages\u001b[22m ─────────────────────────────────────── tidyverse 1.3.1 ──\n",
      "\n",
      "\u001b[32m✔\u001b[39m \u001b[34mggplot2\u001b[39m 3.3.5     \u001b[32m✔\u001b[39m \u001b[34mpurrr  \u001b[39m 0.3.4\n",
      "\u001b[32m✔\u001b[39m \u001b[34mtibble \u001b[39m 3.1.5     \u001b[32m✔\u001b[39m \u001b[34mdplyr  \u001b[39m 1.0.7\n",
      "\u001b[32m✔\u001b[39m \u001b[34mtidyr  \u001b[39m 1.1.4     \u001b[32m✔\u001b[39m \u001b[34mstringr\u001b[39m 1.4.0\n",
      "\u001b[32m✔\u001b[39m \u001b[34mreadr  \u001b[39m 2.0.2     \u001b[32m✔\u001b[39m \u001b[34mforcats\u001b[39m 0.5.1\n",
      "\n",
      "── \u001b[1mConflicts\u001b[22m ────────────────────────────────────────── tidyverse_conflicts() ──\n",
      "\u001b[31m✖\u001b[39m \u001b[34mdplyr\u001b[39m::\u001b[32mfilter()\u001b[39m  masks \u001b[34mstats\u001b[39m::filter()\n",
      "\u001b[31m✖\u001b[39m \u001b[34mpurrr\u001b[39m::\u001b[32mflatten()\u001b[39m masks \u001b[34mjsonlite\u001b[39m::flatten()\n",
      "\u001b[31m✖\u001b[39m \u001b[34mdplyr\u001b[39m::\u001b[32mlag()\u001b[39m     masks \u001b[34mstats\u001b[39m::lag()\n",
      "\n",
      "\n",
      "Attaching package: ‘rvest’\n",
      "\n",
      "\n",
      "The following object is masked from ‘package:readr’:\n",
      "\n",
      "    guess_encoding\n",
      "\n",
      "\n"
     ],
     "output_type":"stream"
    }
   ],
   "metadata":{
    "datalore":{
     "node_id":"n2i52W0ClfpvFTphakelMz",
     "type":"CODE",
     "hide_input_from_viewers":false,
     "hide_output_from_viewers":false,
     "report_properties":{
      "rowId":"oDABc0UZfWOahFjJZVWIDG"
     }
    }
   }
  },
  {
   "cell_type":"code",
   "source":[
    "url <- read_html(\"https:\/\/specphone.com\/Samsung-Galaxy-S23-Ultra-5G.html\")"
   ],
   "execution_count":4,
   "outputs":[
    
   ],
   "metadata":{
    "datalore":{
     "node_id":"oZ4f1wIPC9BtI4Wrn4Nu7K",
     "type":"CODE",
     "hide_input_from_viewers":false,
     "hide_output_from_viewers":false,
     "report_properties":{
      "rowId":"Nx5gFWZQ7dmlqnfvs9dXxg"
     }
    }
   }
  },
  {
   "cell_type":"code",
   "source":[
    "att <- url %>%\n",
    "    html_nodes(\"div.topic\") %>%\n",
    "    html_text2()"
   ],
   "execution_count":6,
   "outputs":[
    
   ],
   "metadata":{
    "datalore":{
     "node_id":"4Bpeq9stdHBjRseZCCqAri",
     "type":"CODE",
     "hide_input_from_viewers":false,
     "hide_output_from_viewers":false,
     "report_properties":{
      "rowId":"8957siq7Pp3SWqRfR4bzug"
     }
    }
   }
  },
  {
   "cell_type":"code",
   "source":[
    "value <- url %>%\n",
    "    html_nodes(\"div.detail\") %>%\n",
    "    html_text2()"
   ],
   "execution_count":7,
   "outputs":[
    
   ],
   "metadata":{
    "datalore":{
     "node_id":"x8W6Z7JF4ey7s12vDSfzyK",
     "type":"CODE",
     "hide_input_from_viewers":false,
     "hide_output_from_viewers":false,
     "report_properties":{
      "rowId":"35DXqf48798fDeTAI3VLPz"
     }
    }
   }
  },
  {
   "cell_type":"code",
   "source":[
    "data.frame(attribute = att,\n",
    "           value = value)"
   ],
   "execution_count":8,
   "outputs":[
    {
     "data":{
      "text\/html":[
       "<table class=\"dataframe\">\n",
       "<caption>A data.frame: 33 × 2<\/caption>\n",
       "<thead>\n",
       "\t<tr><th scope=col>attribute<\/th><th scope=col>value<\/th><\/tr>\n",
       "\t<tr><th scope=col>&lt;chr&gt;<\/th><th scope=col>&lt;chr&gt;<\/th><\/tr>\n",
       "<\/thead>\n",
       "<tbody>\n",
       "\t<tr><td>วันเปิดตัว          <\/td><td>มกราคม 2566                                                                                                                                                                                           <\/td><\/tr>\n",
       "\t<tr><td>วันวางจำหน่าย      <\/td><td>ยังไม่วางจำหน่าย                                                                                                                                                                                         <\/td><\/tr>\n",
       "\t<tr><td>ขนาด             <\/td><td>163.40 x 78.10 x 8.90 มม.                                                                                                                                                                             <\/td><\/tr>\n",
       "\t<tr><td>น้ำหนัก            <\/td><td>233 กรัม                                                                                                                                                                                               <\/td><\/tr>\n",
       "\t<tr><td>วัสดุ              <\/td><td>Glass front (Gorilla Glass Victus 2), glass back (Gorilla Glass Victus 2), aluminum frame                                                                                                             <\/td><\/tr>\n",
       "\t<tr><td>SIM              <\/td><td>รองรับ 2 ซิมการ์ด (nano sim, nano sim)                                                                                                                                                                   <\/td><\/tr>\n",
       "\t<tr><td>Technology       <\/td><td>HSPA 42.2\/5.76 Mbps, LTE-A (CA), 5G                                                                                                                                                                   <\/td><\/tr>\n",
       "\t<tr><td>2G               <\/td><td>850\/900\/1800\/1900                                                                                                                                                                                     <\/td><\/tr>\n",
       "\t<tr><td>3G               <\/td><td>850\/900\/1900\/2100                                                                                                                                                                                     <\/td><\/tr>\n",
       "\t<tr><td>4G               <\/td><td>850\/900\/1900\/2100\/2600                                                                                                                                                                                <\/td><\/tr>\n",
       "\t<tr><td>5G               <\/td><td>2100\/2600\/3500\/4700                                                                                                                                                                                   <\/td><\/tr>\n",
       "\t<tr><td>ความเร็ว          <\/td><td>HSPA 42.2\/5.76 Mbps, LTE-A (CA), 5G                                                                                                                                                                   <\/td><\/tr>\n",
       "\t<tr><td>ประเภท           <\/td><td>Dynamic AMOLED 2X                                                                                                                                                                                     <\/td><\/tr>\n",
       "\t<tr><td>ขนาดหน้าจอ        <\/td><td>6.80 นิ้ว                                                                                                                                                                                               <\/td><\/tr>\n",
       "\t<tr><td>ความละเอียด       <\/td><td>1440 x 3088 pixels                                                                                                                                                                                    <\/td><\/tr>\n",
       "\t<tr><td>ระบบปฏิบัติการ      <\/td><td>Android 12                                                                                                                                                                                            <\/td><\/tr>\n",
       "\t<tr><td>ชิปประมวลผล       <\/td><td>Qualcomm Snapdragon 8 Gen 2 SM8550 3.2 GHz                                                                                                                                                            <\/td><\/tr>\n",
       "\t<tr><td>ชิปกราฟิก          <\/td><td>Adreno 740                                                                                                                                                                                            <\/td><\/tr>\n",
       "\t<tr><td>หน่วยความจำ       <\/td><td>12 GB                                                                                                                                                                                                 <\/td><\/tr>\n",
       "\t<tr><td>ความจุ            <\/td><td>512\/1024 GB                                                                                                                                                                                           <\/td><\/tr>\n",
       "\t<tr><td>Memory Card      <\/td><td>ไม่รองรับ                                                                                                                                                                                               <\/td><\/tr>\n",
       "\t<tr><td>กล้องหลัก          <\/td><td>ตัวที่ 1: 200 MP, f\/1.7, 23mm (wide), 1\/1.3\n",
       "ตัวที่ 2: 10 MP, f\/4.9, 230mm (periscope telephoto), 1\/3.52\n",
       "ตัวที่ 3: 10 MP, f\/2.4, 70mm (telephoto), 1\/3.52\n",
       "ตัวที่ 4: 12 MP, f\/2.2, 13mm, 120˚ (ultrawide), 1\/2.55<\/td><\/tr>\n",
       "\t<tr><td>ความละเอียดวีดีโอ   <\/td><td>8K@24\/30fps, 4K@30\/60fps, 1080p@30\/60\/240fps, 720p@960fps, HDR10+, stereo sound rec., gyro-EIS                                                                                                        <\/td><\/tr>\n",
       "\t<tr><td>กล้องหน้า          <\/td><td>ตัวที่ 1: 12 MP, f\/2.2, 25mm (wide), PDAF                                                                                                                                                                <\/td><\/tr>\n",
       "\t<tr><td>Bluetooth        <\/td><td>5.3, A2DP, LE                                                                                                                                                                                         <\/td><\/tr>\n",
       "\t<tr><td>Wi-Fi            <\/td><td>802.11 a\/b\/g\/n\/ac\/6e, tri                                                                                                                                                                             <\/td><\/tr>\n",
       "\t<tr><td>USB              <\/td><td>Type-C                                                                                                                                                                                                <\/td><\/tr>\n",
       "\t<tr><td>GPS              <\/td><td>GPS, GLONASS, BDS, GALILE                                                                                                                                                                             <\/td><\/tr>\n",
       "\t<tr><td>NFC              <\/td><td>รอบรับ                                                                                                                                                                                                 <\/td><\/tr>\n",
       "\t<tr><td>ความจุ            <\/td><td>5,000 mAh                                                                                                                                                                                             <\/td><\/tr>\n",
       "\t<tr><td>ประเภท           <\/td><td>Non-removable Li-Po Batt                                                                                                                                                                              <\/td><\/tr>\n",
       "\t<tr><td>Wireless Charging<\/td><td>รองรับ                                                                                                                                                                                                 <\/td><\/tr>\n",
       "\t<tr><td>Fast Charging    <\/td><td>รองรับ (45W)                                                                                                                                                                                           <\/td><\/tr>\n",
       "<\/tbody>\n",
       "<\/table>\n"
      ]
     },
     "metadata":{
      
     },
     "output_type":"display_data"
    }
   ],
   "metadata":{
    "datalore":{
     "node_id":"voZWVWR9Z4kvsBnTVzvL3m",
     "type":"CODE",
     "hide_input_from_viewers":false,
     "hide_output_from_viewers":false,
     "report_properties":{
      "rowId":"EGdF9qdL7j5ZbfUgV7CcXV"
     }
    }
   }
  },
  {
   "cell_type":"code",
   "source":[
    "## All Samsung Smartphones\n",
    "samsung_url <- read_html(\"https:\/\/specphone.com\/brand\/Samsung\")"
   ],
   "execution_count":2,
   "outputs":[
    
   ],
   "metadata":{
    "datalore":{
     "node_id":"pElK8RcR017cFQ0j7PNsZR",
     "type":"CODE",
     "hide_input_from_viewers":false,
     "hide_output_from_viewers":false,
     "report_properties":{
      "rowId":"rrlHquO6ntkIrtdshaZ0ak"
     }
    }
   }
  },
  {
   "cell_type":"code",
   "source":[
    "## links to all samsung smartphone\n",
    "links <- samsung_url %>% \n",
    "    html_nodes(\"li.mobile-brand-item a\") %>% ## find \"a\" in \"li.mobile-brand-item\"\n",
    "    html_attr(\"href\")"
   ],
   "execution_count":3,
   "outputs":[
    
   ],
   "metadata":{
    "datalore":{
     "node_id":"tgLMgxC1bZFXVfi9suI4WK",
     "type":"CODE",
     "hide_input_from_viewers":false,
     "hide_output_from_viewers":false,
     "report_properties":{
      "rowId":"dlMfYwmV2BAQiIEIGDWg0q"
     }
    }
   }
  },
  {
   "cell_type":"code",
   "source":[
    "full_links <- paste0(\"https:\/\/specphone.com\", links)"
   ],
   "execution_count":4,
   "outputs":[
    
   ],
   "metadata":{
    "datalore":{
     "node_id":"Hj8nEV54OIFo6Pg5Bjuuga",
     "type":"CODE",
     "hide_input_from_viewers":false,
     "hide_output_from_viewers":false,
     "report_properties":{
      "rowId":"hffz8pyFfkFsD9mkEgnF93"
     }
    }
   }
  },
  {
   "cell_type":"code",
   "source":[
    "result <- data.frame()\n",
    "\n",
    "for (link in full_links[1:10]) {\n",
    "    ss_topic <- link %>% \n",
    "        read_html() %>%\n",
    "        html_nodes(\"div.topic\") %>%\n",
    "        html_text2()\n",
    "\n",
    "    ss_detail <- link %>%\n",
    "        read_html() %>%\n",
    "        html_nodes(\"div.detail\") %>%\n",
    "        html_text2()\n",
    "\n",
    "    tmp <- data.frame(attribute = ss_topic,\n",
    "                      value = ss_detail)\n",
    "\n",
    "    result <- bind_rows(result, tmp)\n",
    "    print(\"Progress ...\")\n",
    "}\n",
    "\n",
    "print(result)"
   ],
   "execution_count":5,
   "outputs":[
    
   ],
   "metadata":{
    "datalore":{
     "node_id":"8zRbzZ5S80JtzklVcvg8hI",
     "type":"CODE",
     "hide_input_from_viewers":false,
     "hide_output_from_viewers":false,
     "report_properties":{
      "rowId":"ZQsonNPzE3FHhr15sk9vW2"
     }
    }
   }
  },
  {
   "cell_type":"code",
   "source":[
    "print(head(result),3)"
   ],
   "execution_count":8,
   "outputs":[
    {
     "name":"stdout",
     "text":[
      "    attribute                                    value\n",
      "1     วันเปิดตัว                              มิถุนายน 2565\n",
      "2 วันวางจำหน่าย                            ยังไม่วางจำหน่าย\n",
      "3        ขนาด                165.40 x 76.90 x 8.40 มม.\n",
      "4       น้ำหนัก                                  192 กรัม\n",
      "5         วัสดุ Glass front, plastic back, plastic frame\n",
      "6         SIM      รองรับ 2 ซิมการ์ด (nano sim, nano sim)\n"
     ],
     "output_type":"stream"
    }
   ],
   "metadata":{
    "datalore":{
     "node_id":"R0Gt8mobPbiZu1HbqXTBT2",
     "type":"CODE",
     "hide_input_from_viewers":false,
     "hide_output_from_viewers":false,
     "report_properties":{
      "rowId":"EMgGdhSh0wPiHZQR3qHYFU"
     }
    }
   }
  },
  {
   "cell_type":"code",
   "source":[
    "# write csv\n",
    "write_csv(result, \"result_ss_phone.csv\")"
   ],
   "execution_count":6,
   "outputs":[
    
   ],
   "metadata":{
    "datalore":{
     "node_id":"U4eJ0P1oDsfcgkrogjT1hn",
     "type":"CODE",
     "hide_input_from_viewers":false,
     "hide_output_from_viewers":false,
     "report_properties":{
      "rowId":"Ud6fghBExvz1cJZu3TKdQ0"
     }
    }
   }
  }
 ],
 "metadata":{
  "kernelspec":{
   "display_name":"R",
   "language":"r",
   "name":"ir"
  },
  "datalore":{
   "computation_mode":"JUPYTER",
   "package_manager":"conda",
   "base_environment":"minimal",
   "packages":[
    
   ],
   "report_row_ids":[
    "UanRS3nSWYzCguoZIwHWsc",
    "nxt1Vl3QmPKeLMbeI9wzbP",
    "BWvCfkmiBUkF67teCf8yHT",
    "KywE9WqvkSCmcqI0EJDBrG",
    "L0ajtOnAqtS6rqoekpc3Gu",
    "iDzFHg7TQdKLbixs4gZp2y",
    "pTfpm4xJRa4O2vtffjPMUo",
    "cj8sfEjuAieH2kmeZqSQnJ",
    "X15oK1HgwuedJ1x5GPgz6H",
    "ETFa70gxGMY5s097lSDtpU",
    "k5XeqSjyJuCD5UwDtoBEtd",
    "TKH93OABY8pS6SNtE0W2B3",
    "sW8wBZqOYqvDT5gX6GtnaE",
    "oDABc0UZfWOahFjJZVWIDG",
    "Nx5gFWZQ7dmlqnfvs9dXxg",
    "8957siq7Pp3SWqRfR4bzug",
    "35DXqf48798fDeTAI3VLPz",
    "EGdF9qdL7j5ZbfUgV7CcXV",
    "rrlHquO6ntkIrtdshaZ0ak",
    "dlMfYwmV2BAQiIEIGDWg0q",
    "hffz8pyFfkFsD9mkEgnF93",
    "ZQsonNPzE3FHhr15sk9vW2",
    "EMgGdhSh0wPiHZQR3qHYFU",
    "Ud6fghBExvz1cJZu3TKdQ0"
   ],
   "version":2
  }
 },
 "nbformat":4,
 "nbformat_minor":4
}